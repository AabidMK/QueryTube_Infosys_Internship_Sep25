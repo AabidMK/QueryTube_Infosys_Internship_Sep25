{
 "cells": [
  {
   "cell_type": "code",
   "execution_count": null,
   "id": "7c3aa72a",
   "metadata": {},
   "outputs": [
    {
     "name": "stdout",
     "output_type": "stream",
     "text": [
      "Embeddings and metadata stored in ChromaDB collection 'video_embeddings'.\n"
     ]
    }
   ],
   "source": [
    "# Install chromadb if not already installed\n",
    "import pandas as pd\n",
    "import chromadb\n",
    "# Load the dataset with embeddings\n",
    "df = pd.read_excel('merged_with_embeddings2.xls')\n",
    "\n",
    "# Initialize ChromaDB client and collection\n",
    "client = chromadb.PersistentClient(path=\"./chromadb_data\")\n",
    "collection = client.get_or_create_collection(name=\"video_embeddings\")\n",
    "\n",
    "# Prepare data for insertion\n",
    "ids = df['id'].astype(str).tolist()\n",
    "\n",
    "def parse_embedding(x):\n",
    "    if isinstance(x, str):\n",
    "        return eval(x)\n",
    "    return x\n",
    "\n",
    "embeddings = df['embedding'].apply(parse_embedding).tolist()\n",
    "\n",
    "metadatas = df[['id', 'title', 'description', 'categoryId', 'duration', 'channel_id', 'channel_title', 'channel_description', 'channel_subscriberCount', 'likeCount', 'transcript']].to_dict(orient='records')\n",
    "\n",
    "# Add embeddings and metadata to the collection\n",
    "collection.add(\n",
    "    ids=ids,\n",
    "    embeddings=embeddings,\n",
    "    metadatas=metadatas\n",
    ")\n",
    "\n",
    "print(\"Embeddings and metadata stored in ChromaDB collection 'video_embeddings'.\")"
   ]
  }
 ],
 "metadata": {
  "kernelspec": {
   "display_name": "Python 3",
   "language": "python",
   "name": "python3"
  },
  "language_info": {
   "codemirror_mode": {
    "name": "ipython",
    "version": 3
   },
   "file_extension": ".py",
   "mimetype": "text/x-python",
   "name": "python",
   "nbconvert_exporter": "python",
   "pygments_lexer": "ipython3",
   "version": "3.13.2"
  }
 },
 "nbformat": 4,
 "nbformat_minor": 5
}
