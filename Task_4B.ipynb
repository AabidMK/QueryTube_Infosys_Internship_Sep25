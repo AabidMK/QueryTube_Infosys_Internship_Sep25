{
  "nbformat": 4,
  "nbformat_minor": 0,
  "metadata": {
    "colab": {
      "provenance": []
    },
    "kernelspec": {
      "name": "python3",
      "display_name": "Python 3"
    },
    "language_info": {
      "name": "python"
    }
  },
  "cells": [
    {
      "cell_type": "code",
      "source": [
        "import pandas as pd\n",
        "import re"
      ],
      "metadata": {
        "id": "KG0Oz6BYY5b0"
      },
      "execution_count": 30,
      "outputs": []
    },
    {
      "cell_type": "code",
      "source": [
        "# Load the data, using the file name: master_task2_datset.csv\n",
        "file_path = 'master_task2_datset.csv'\n",
        "df = pd.read_csv(file_path)"
      ],
      "metadata": {
        "id": "33fLHUXuY5aL"
      },
      "execution_count": 31,
      "outputs": []
    },
    {
      "cell_type": "code",
      "source": [
        "# --- Define Transcript Cleaning Function ---\n",
        "def clean_transcript(text):\n",
        "    # 5. Handle missing transcripts: Replace NaNs/None with empty string\n",
        "    if pd.isna(text) or text is None:\n",
        "        return ''\n",
        "    text = str(text)\n",
        "\n",
        "    # 4. Replace newlines with spaces\n",
        "    text = text.replace('\\n', ' ')\n",
        "\n",
        "    # 1. Remove bracketed text: [Music], [Applause], [Laughter] etc.\n",
        "    text = re.sub(r'\\[.*?\\]', '', text)\n",
        "\n",
        "    # 1. Remove timestamps: 00:01, 1:23:45, 01:00:00.\n",
        "    text = re.sub(r'\\s?\\d{1,2}:\\d{2}(:\\d{2})?\\s?', ' ', text)\n",
        "\n",
        "    # 3. Lowercase text\n",
        "    text = text.lower()\n",
        "\n",
        "    # 2. Remove Special characters or non-UTF symbols (keep only letters, numbers, and spaces)\n",
        "    text = re.sub(r'[^a-zA-Z0-9\\s]', ' ', text)\n",
        "\n",
        "    # Clean up excessive whitespace created by replacements\n",
        "    text = re.sub(r'\\s+', ' ', text).strip()\n",
        "\n",
        "    return text\n"
      ],
      "metadata": {
        "id": "ltS5hMREZTai"
      },
      "execution_count": 32,
      "outputs": []
    },
    {
      "cell_type": "code",
      "source": [
        "# Apply the new cleaning function to the 'transcript' column\n",
        "df['cleaned_transcript'] = df['transcript'].apply(clean_transcript)"
      ],
      "metadata": {
        "id": "GpG80VjLZWCr"
      },
      "execution_count": 28,
      "outputs": []
    },
    {
      "cell_type": "code",
      "source": [
        "# Save the final cleaned DataFrame\n",
        "df.to_csv('master_task2_clean_transcript_dataset.csv', index=False)"
      ],
      "metadata": {
        "id": "9s7tkr1sZX7Q"
      },
      "execution_count": 29,
      "outputs": []
    },
    {
      "cell_type": "code",
      "source": [],
      "metadata": {
        "id": "R8yHa0w-ZX5v"
      },
      "execution_count": 29,
      "outputs": []
    }
  ]
}