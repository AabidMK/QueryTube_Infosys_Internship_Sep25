{
 "cells": [
  {
   "cell_type": "code",
   "execution_count": 6,
   "id": "16add606",
   "metadata": {},
   "outputs": [],
   "source": [
    "import pandas as pd\n",
    "import re\n",
    "import isodate"
   ]
  },
  {
   "cell_type": "code",
   "execution_count": null,
   "id": "69d5d3d4",
   "metadata": {},
   "outputs": [],
   "source": [
    "\n",
    "# Function to remove emojis\n",
    "def remove_emojis(text):\n",
    "    emoji_pattern = re.compile(\n",
    "        \"[\"\n",
    "        \"\\U0001F600-\\U0001F64F\"  # emoticons\n",
    "        \"\\U0001F300-\\U0001F5FF\"  # symbols & pictographs\n",
    "        \"\\U0001F680-\\U0001F6FF\"  # transport & map symbols\n",
    "        \"\\U0001F1E0-\\U0001F1FF\"  # flags\n",
    "        \"\\U00002700-\\U000027BF\"  # Dingbats\n",
    "        \"\\U000024C2-\\U0001F251\"\n",
    "        \"]+\", flags=re.UNICODE)\n",
    "    return emoji_pattern.sub(r'', text)\n",
    "\n",
    "# Function to remove special characters\n",
    "def remove_special_chars(text):\n",
    "    return re.sub(r'[#@|\\[\\]{}]', '', text)\n",
    "\n",
    "# Function to remove HTML tags\n",
    "def remove_html_tags(text):\n",
    "    return re.sub(r'<.*?>', '', text)\n",
    "\n",
    "def remove_bad_strings(text):\n",
    "    # Match any sequence of these corrupted characters and similar ones\n",
    "    bad_pattern = r'[ÃÂ°Ÿ¤¯‰]+'\n",
    "    return re.sub(bad_pattern, '', text)\n",
    "\n",
    "# Update the full cleaning function\n",
    "def clean_text(text):\n",
    "    if pd.isnull(text):\n",
    "        return \"\"\n",
    "    text = remove_emojis(text)\n",
    "    text = remove_special_chars(text)\n",
    "    text = remove_html_tags(text)\n",
    "    text = remove_bad_strings(text)\n",
    "    text = text.lower()\n",
    "    text = re.sub(r'\\s+', ' ', text).strip()\n",
    "    return text\n",
    "\n",
    "def parse_duration_to_seconds(duration_str):\n",
    "    \"\"\"Parses an ISO 8601 duration string and returns the total seconds.\"\"\"\n",
    "    try:\n",
    "        duration = isodate.parse_duration(duration_str)\n",
    "        return int(duration.total_seconds())\n",
    "    except Exception:\n",
    "        return None # Handle any parsing errors\n",
    "    \n",
    "channel_details_df = pd.read_csv('Dhruvin_cleaned_video_details.csv')\n",
    "\n",
    "# Overwrite the 'duration' column with seconds\n",
    "channel_details_df['duration'] = channel_details_df['duration'].apply(parse_duration_to_seconds)\n",
    "\n",
    "# Save the changes back to the CSV file\n",
    "channel_details_df.to_csv('Dhruvin_cleaned_video_details.csv', index=False)"
   ]
  },
  {
   "cell_type": "code",
   "execution_count": null,
   "id": "53c2a7cb",
   "metadata": {},
   "outputs": [],
   "source": [
    "\n",
    "# Load CSV\n",
    "input_file = 'Dhruvin_cleaned_video_details.csv'  # Change to your file name\n",
    "df = pd.read_csv(input_file)"
   ]
  },
  {
   "cell_type": "code",
   "execution_count": null,
   "id": "adc58ca2",
   "metadata": {},
   "outputs": [
    {
     "name": "stdout",
     "output_type": "stream",
     "text": [
      "Cleaned data saved to dhruvin_cleaned_video_details.csv\n"
     ]
    }
   ],
   "source": [
    "\n",
    "# Clean relevant columns\n",
    "for col in ['title', 'description', 'channel_title', 'channel_description']:\n",
    "    if col in df.columns:\n",
    "        df[col] = df[col].apply(clean_text)\n",
    "\n",
    "# Ensure title uniqueness across video_id\n",
    "if 'video_id' in df.columns and 'title' in df.columns:\n",
    "    df = df.drop_duplicates(subset=['title', 'video_id'])\n",
    "\n",
    "# Save cleaned CSV\n",
    "output_file = 'cleaned_video_details.csv'\n",
    "df.to_csv(output_file, index=False)\n",
    "print(f\"Cleaned data saved to {output_file}\")"
   ]
  }
 ],
 "metadata": {
  "kernelspec": {
   "display_name": "Python 3",
   "language": "python",
   "name": "python3"
  },
  "language_info": {
   "codemirror_mode": {
    "name": "ipython",
    "version": 3
   },
   "file_extension": ".py",
   "mimetype": "text/x-python",
   "name": "python",
   "nbconvert_exporter": "python",
   "pygments_lexer": "ipython3",
   "version": "3.13.2"
  }
 },
 "nbformat": 4,
 "nbformat_minor": 5
}
