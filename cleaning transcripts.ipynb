{
 "cells": [
  {
   "cell_type": "code",
   "execution_count": 1,
   "id": "f5ccb49d",
   "metadata": {},
   "outputs": [],
   "source": [
    "import pandas as pd\n",
    "import re\n",
    "import numpy as np"
   ]
  },
  {
   "cell_type": "code",
   "execution_count": 2,
   "id": "d05742ca",
   "metadata": {},
   "outputs": [],
   "source": [
    "\n",
    "def clean_transcript(text):\n",
    "    if pd.isnull(text) or str(text).strip() == \"\":\n",
    "        return np.nan\n",
    "    # Remove [Music], [Applause], and similar tags\n",
    "    text = re.sub(r'\\[(music|applause|laughter|silence|noise|cheering|clapping)\\]', '', text, flags=re.IGNORECASE)\n",
    "    # Remove timestamps like 00:01, 1:23:45, etc.\n",
    "    text = re.sub(r'\\b\\d{1,2}:\\d{2}(?::\\d{2})?\\b', '', text)\n",
    "    # Remove special characters and non-UTF symbols\n",
    "    text = re.sub(r'[^\\w\\s]', '', text)\n",
    "    # Lowercase\n",
    "    text = text.lower()\n",
    "    # Replace newlines with spaces\n",
    "    text = re.sub(r'\\s+', ' ', text).strip()\n",
    "    return text if text else np.nan\n",
    "\n",
    "# Load CSV\n",
    "input_file = 'master_task2_dataset.csv'  # Change to your file name\n",
    "df = pd.read_csv(input_file)\n",
    "\n",
    "# Clean transcript column (replace 'transcript' with your actual column name)\n",
    "if 'transcript' in df.columns:\n",
    "    df['transcript'] = df['transcript'].apply(clean_transcript)\n",
    "\n",
    "# Save cleaned CSV\n",
    "output_file = 'cleaned_transcripts.csv'\n",
    "df.to_csv(output_file, index=False)"
   ]
  }
 ],
 "metadata": {
  "kernelspec": {
   "display_name": "Python 3",
   "language": "python",
   "name": "python3"
  },
  "language_info": {
   "codemirror_mode": {
    "name": "ipython",
    "version": 3
   },
   "file_extension": ".py",
   "mimetype": "text/x-python",
   "name": "python",
   "nbconvert_exporter": "python",
   "pygments_lexer": "ipython3",
   "version": "3.13.2"
  }
 },
 "nbformat": 4,
 "nbformat_minor": 5
}
